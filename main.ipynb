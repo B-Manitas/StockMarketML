{
 "cells": [
  {
   "cell_type": "code",
   "execution_count": 1,
   "metadata": {},
   "outputs": [],
   "source": [
    "# Includes libraries\n",
    "import pandas as pd\n",
    "import numpy as np\n",
    "import matplotlib.pyplot as plt"
   ]
  },
  {
   "cell_type": "code",
   "execution_count": 2,
   "metadata": {},
   "outputs": [
    {
     "data": {
      "text/html": [
       "<div>\n",
       "<style scoped>\n",
       "    .dataframe tbody tr th:only-of-type {\n",
       "        vertical-align: middle;\n",
       "    }\n",
       "\n",
       "    .dataframe tbody tr th {\n",
       "        vertical-align: top;\n",
       "    }\n",
       "\n",
       "    .dataframe thead th {\n",
       "        text-align: right;\n",
       "    }\n",
       "</style>\n",
       "<table border=\"1\" class=\"dataframe\">\n",
       "  <thead>\n",
       "    <tr style=\"text-align: right;\">\n",
       "      <th></th>\n",
       "      <th>Date</th>\n",
       "      <th>Open</th>\n",
       "      <th>High</th>\n",
       "      <th>Low</th>\n",
       "      <th>Close</th>\n",
       "      <th>Adj Close</th>\n",
       "      <th>compound</th>\n",
       "      <th>neg</th>\n",
       "      <th>neu</th>\n",
       "      <th>pos</th>\n",
       "    </tr>\n",
       "  </thead>\n",
       "  <tbody>\n",
       "    <tr>\n",
       "      <th>0</th>\n",
       "      <td>2006-12-01</td>\n",
       "      <td>13.1143</td>\n",
       "      <td>13.1900</td>\n",
       "      <td>12.8714</td>\n",
       "      <td>91.32</td>\n",
       "      <td>13.0457</td>\n",
       "      <td>0.7707</td>\n",
       "      <td>0.032</td>\n",
       "      <td>0.905</td>\n",
       "      <td>0.063</td>\n",
       "    </tr>\n",
       "    <tr>\n",
       "      <th>1</th>\n",
       "      <td>2006-12-04</td>\n",
       "      <td>13.1257</td>\n",
       "      <td>13.1500</td>\n",
       "      <td>12.9286</td>\n",
       "      <td>91.12</td>\n",
       "      <td>13.0171</td>\n",
       "      <td>0.8720</td>\n",
       "      <td>0.011</td>\n",
       "      <td>0.904</td>\n",
       "      <td>0.085</td>\n",
       "    </tr>\n",
       "    <tr>\n",
       "      <th>2</th>\n",
       "      <td>2006-12-05</td>\n",
       "      <td>13.0929</td>\n",
       "      <td>13.1900</td>\n",
       "      <td>12.9814</td>\n",
       "      <td>91.27</td>\n",
       "      <td>13.0386</td>\n",
       "      <td>0.0000</td>\n",
       "      <td>0.000</td>\n",
       "      <td>0.000</td>\n",
       "      <td>0.000</td>\n",
       "    </tr>\n",
       "    <tr>\n",
       "      <th>3</th>\n",
       "      <td>2006-12-06</td>\n",
       "      <td>12.9486</td>\n",
       "      <td>13.0557</td>\n",
       "      <td>12.8100</td>\n",
       "      <td>89.83</td>\n",
       "      <td>12.8329</td>\n",
       "      <td>0.6858</td>\n",
       "      <td>0.029</td>\n",
       "      <td>0.878</td>\n",
       "      <td>0.093</td>\n",
       "    </tr>\n",
       "    <tr>\n",
       "      <th>4</th>\n",
       "      <td>2006-12-07</td>\n",
       "      <td>12.8614</td>\n",
       "      <td>12.9286</td>\n",
       "      <td>12.4143</td>\n",
       "      <td>87.04</td>\n",
       "      <td>12.4343</td>\n",
       "      <td>-0.6712</td>\n",
       "      <td>0.091</td>\n",
       "      <td>0.869</td>\n",
       "      <td>0.040</td>\n",
       "    </tr>\n",
       "  </tbody>\n",
       "</table>\n",
       "</div>"
      ],
      "text/plain": [
       "         Date     Open     High      Low  Close  Adj Close  compound    neg  \\\n",
       "0  2006-12-01  13.1143  13.1900  12.8714  91.32    13.0457    0.7707  0.032   \n",
       "1  2006-12-04  13.1257  13.1500  12.9286  91.12    13.0171    0.8720  0.011   \n",
       "2  2006-12-05  13.0929  13.1900  12.9814  91.27    13.0386    0.0000  0.000   \n",
       "3  2006-12-06  12.9486  13.0557  12.8100  89.83    12.8329    0.6858  0.029   \n",
       "4  2006-12-07  12.8614  12.9286  12.4143  87.04    12.4343   -0.6712  0.091   \n",
       "\n",
       "     neu    pos  \n",
       "0  0.905  0.063  \n",
       "1  0.904  0.085  \n",
       "2  0.000  0.000  \n",
       "3  0.878  0.093  \n",
       "4  0.869  0.040  "
      ]
     },
     "execution_count": 2,
     "metadata": {},
     "output_type": "execute_result"
    }
   ],
   "source": [
    "df = pd.read_csv(\"data/AppleFinalData.csv\")\n",
    "df.head()"
   ]
  },
  {
   "cell_type": "code",
   "execution_count": 3,
   "metadata": {},
   "outputs": [
    {
     "name": "stdout",
     "output_type": "stream",
     "text": [
      "<class 'pandas.core.frame.DataFrame'>\n",
      "RangeIndex: 2517 entries, 0 to 2516\n",
      "Data columns (total 10 columns):\n",
      " #   Column     Non-Null Count  Dtype  \n",
      "---  ------     --------------  -----  \n",
      " 0   Date       2517 non-null   object \n",
      " 1   Open       2517 non-null   float64\n",
      " 2   High       2517 non-null   float64\n",
      " 3   Low        2517 non-null   float64\n",
      " 4   Close      2517 non-null   float64\n",
      " 5   Adj Close  2517 non-null   float64\n",
      " 6   compound   2517 non-null   float64\n",
      " 7   neg        2517 non-null   float64\n",
      " 8   neu        2517 non-null   float64\n",
      " 9   pos        2517 non-null   float64\n",
      "dtypes: float64(9), object(1)\n",
      "memory usage: 196.8+ KB\n"
     ]
    }
   ],
   "source": [
    "df.info()"
   ]
  },
  {
   "cell_type": "code",
   "execution_count": null,
   "metadata": {},
   "outputs": [],
   "source": []
  }
 ],
 "metadata": {
  "kernelspec": {
   "display_name": "Python 3",
   "language": "python",
   "name": "python3"
  },
  "language_info": {
   "codemirror_mode": {
    "name": "ipython",
    "version": 3
   },
   "file_extension": ".py",
   "mimetype": "text/x-python",
   "name": "python",
   "nbconvert_exporter": "python",
   "pygments_lexer": "ipython3",
   "version": "3.8.10"
  }
 },
 "nbformat": 4,
 "nbformat_minor": 2
}
